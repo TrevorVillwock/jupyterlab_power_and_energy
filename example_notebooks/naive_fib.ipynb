{
 "cells": [
  {
   "cell_type": "code",
   "execution_count": 1,
   "id": "1bc23317-a65d-42c6-b951-7367f190d179",
   "metadata": {},
   "outputs": [
    {
     "name": "stdout",
     "output_type": "stream",
     "text": [
      "9227465\n"
     ]
    }
   ],
   "source": [
    "def fibRec(n):\n",
    "    if n < 2:\n",
    "        return n\n",
    "    else:\n",
    "        return fibRec(n-1) + fibRec(n-2)\n",
    "    \n",
    "print(fibRec(35))"
   ]
  },
  {
   "cell_type": "code",
   "execution_count": null,
   "id": "e4e36e17-270f-41f5-a59b-bfe261c68bee",
   "metadata": {},
   "outputs": [],
   "source": []
  }
 ],
 "metadata": {
  "kernelspec": {
   "display_name": "Python 3",
   "language": "python",
   "name": "python3"
  },
  "language_info": {
   "codemirror_mode": {
    "name": "ipython",
    "version": 3
   },
   "file_extension": ".py",
   "mimetype": "text/x-python",
   "name": "python",
   "nbconvert_exporter": "python",
   "pygments_lexer": "ipython3",
   "version": "3.9.5"
  }
 },
 "nbformat": 4,
 "nbformat_minor": 5
}
